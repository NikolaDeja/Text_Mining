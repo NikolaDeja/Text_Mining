{
 "cells": [
  {
   "cell_type": "markdown",
   "id": "b0807de8",
   "metadata": {},
   "source": [
    "### Import packages"
   ]
  },
  {
   "cell_type": "code",
   "execution_count": null,
   "id": "a3697426",
   "metadata": {},
   "outputs": [],
   "source": [
    "import json\n",
    "import string\n",
    "from nltk.stem import PorterStemmer\n",
    "from nltk.tokenize import word_tokenize\n",
    "from nltk.corpus import PlaintextCorpusReader, stopwords"
   ]
  },
  {
   "cell_type": "markdown",
   "id": "a1b01d63",
   "metadata": {},
   "source": [
    "### Create documents corpus"
   ]
  },
  {
   "cell_type": "code",
   "execution_count": null,
   "id": "f01d5f33",
   "metadata": {},
   "outputs": [],
   "source": [
    "corpus_dir = \"./Literature-original\"\n",
    "corpus = PlaintextCorpusReader(corpus_dir, \".*\\.txt\") # type: ignore\n",
    "files_names = corpus.fileids()\n",
    "files_names"
   ]
  },
  {
   "cell_type": "markdown",
   "id": "c5809c65",
   "metadata": {},
   "source": [
    "### Corpus documents preprocessing"
   ]
  },
  {
   "cell_type": "code",
   "execution_count": null,
   "id": "0aca2adb",
   "metadata": {},
   "outputs": [],
   "source": [
    "documents = {}\n",
    "for file_name in files_names:\n",
    "    documents[file_name] = corpus.raw(file_name)\n",
    "print(json.dumps(documents, indent=4, ensure_ascii=False))"
   ]
  },
  {
   "cell_type": "code",
   "execution_count": null,
   "id": "37a0619d",
   "metadata": {},
   "outputs": [],
   "source": [
    "ps = PorterStemmer()"
   ]
  },
  {
   "cell_type": "code",
   "execution_count": null,
   "id": "8b890c0e",
   "metadata": {},
   "outputs": [],
   "source": [
    "for file_name in documents:\n",
    "    documents[file_name] = documents[file_name].lower()\n",
    "    documents[file_name] = \"\".join(char for char in documents[file_name] if char not in string.punctuation)\n",
    "    documents[file_name] = \"\".join(char for char in documents[file_name] if not char.isDigit())\n",
    "    documents[file_name] = \" \".join(ps.stem(word) for word in word_tokenize(documents[file_name]))\n",
    "    documents[file_name] = \" \".join(word for word in word_tokenize(documents[file_name]) if word not in list(stopwords.words('english')))\n",
    "print(json.dumps(documents, indent=4, ensure_ascii=False))"
   ]
  }
 ],
 "metadata": {
  "kernelspec": {
   "display_name": ".venv (3.13.5)",
   "language": "python",
   "name": "python3"
  },
  "language_info": {
   "codemirror_mode": {
    "name": "ipython",
    "version": 3
   },
   "file_extension": ".py",
   "mimetype": "text/x-python",
   "name": "python",
   "nbconvert_exporter": "python",
   "pygments_lexer": "ipython3",
   "version": "3.13.5"
  }
 },
 "nbformat": 4,
 "nbformat_minor": 5
}
